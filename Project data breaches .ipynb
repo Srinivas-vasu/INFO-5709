{
 "cells": [
  {
   "cell_type": "markdown",
   "metadata": {},
   "source": [
    "## Importing necessary libraries"
   ]
  },
  {
   "cell_type": "code",
   "execution_count": 1,
   "metadata": {},
   "outputs": [],
   "source": [
    "import numpy as np\n",
    "import pandas as pd\n",
    "import matplotlib.pyplot as plt\n",
    "import seaborn as sns\n"
   ]
  },
  {
   "cell_type": "markdown",
   "metadata": {},
   "source": [
    "## Loading dataset"
   ]
  },
  {
   "cell_type": "code",
   "execution_count": 2,
   "metadata": {},
   "outputs": [
    {
     "data": {
      "text/html": [
       "<div>\n",
       "<style scoped>\n",
       "    .dataframe tbody tr th:only-of-type {\n",
       "        vertical-align: middle;\n",
       "    }\n",
       "\n",
       "    .dataframe tbody tr th {\n",
       "        vertical-align: top;\n",
       "    }\n",
       "\n",
       "    .dataframe thead th {\n",
       "        text-align: right;\n",
       "    }\n",
       "</style>\n",
       "<table border=\"1\" class=\"dataframe\">\n",
       "  <thead>\n",
       "    <tr style=\"text-align: right;\">\n",
       "      <th></th>\n",
       "      <th>Name of Covered Entity</th>\n",
       "      <th>State</th>\n",
       "      <th>Covered Entity Type</th>\n",
       "      <th>Individuals Affected</th>\n",
       "      <th>Breach Submission Date</th>\n",
       "      <th>Type of Breach</th>\n",
       "      <th>Location of Breached Information</th>\n",
       "      <th>Business Associate Present</th>\n",
       "      <th>Web Description</th>\n",
       "    </tr>\n",
       "  </thead>\n",
       "  <tbody>\n",
       "    <tr>\n",
       "      <th>0</th>\n",
       "      <td>Wichita Urology Group</td>\n",
       "      <td>KS</td>\n",
       "      <td>Healthcare Provider</td>\n",
       "      <td>5314</td>\n",
       "      <td>12/07/2023</td>\n",
       "      <td>Hacking/IT Incident</td>\n",
       "      <td>Network Server</td>\n",
       "      <td>Yes</td>\n",
       "      <td>NaN</td>\n",
       "    </tr>\n",
       "    <tr>\n",
       "      <th>1</th>\n",
       "      <td>Pan-American Life Insurance Group, Inc.</td>\n",
       "      <td>LA</td>\n",
       "      <td>Business Associate</td>\n",
       "      <td>94807</td>\n",
       "      <td>12/04/2023</td>\n",
       "      <td>Hacking/IT Incident</td>\n",
       "      <td>Network Server</td>\n",
       "      <td>Yes</td>\n",
       "      <td>NaN</td>\n",
       "    </tr>\n",
       "    <tr>\n",
       "      <th>2</th>\n",
       "      <td>Leggett &amp; Platt Incorporated Employee Benefit ...</td>\n",
       "      <td>MO</td>\n",
       "      <td>Health Plan</td>\n",
       "      <td>1200</td>\n",
       "      <td>12/04/2023</td>\n",
       "      <td>Hacking/IT Incident</td>\n",
       "      <td>Network Server</td>\n",
       "      <td>Yes</td>\n",
       "      <td>NaN</td>\n",
       "    </tr>\n",
       "    <tr>\n",
       "      <th>3</th>\n",
       "      <td>Pan-American Life Insurance Group, Inc.</td>\n",
       "      <td>LA</td>\n",
       "      <td>Health Plan</td>\n",
       "      <td>105387</td>\n",
       "      <td>12/04/2023</td>\n",
       "      <td>Hacking/IT Incident</td>\n",
       "      <td>Network Server</td>\n",
       "      <td>No</td>\n",
       "      <td>NaN</td>\n",
       "    </tr>\n",
       "    <tr>\n",
       "      <th>4</th>\n",
       "      <td>EMS Management and Consultants Inc.</td>\n",
       "      <td>NC</td>\n",
       "      <td>Business Associate</td>\n",
       "      <td>2654</td>\n",
       "      <td>12/01/2023</td>\n",
       "      <td>Unauthorized Access/Disclosure</td>\n",
       "      <td>Paper/Films</td>\n",
       "      <td>Yes</td>\n",
       "      <td>NaN</td>\n",
       "    </tr>\n",
       "    <tr>\n",
       "      <th>...</th>\n",
       "      <td>...</td>\n",
       "      <td>...</td>\n",
       "      <td>...</td>\n",
       "      <td>...</td>\n",
       "      <td>...</td>\n",
       "      <td>...</td>\n",
       "      <td>...</td>\n",
       "      <td>...</td>\n",
       "      <td>...</td>\n",
       "    </tr>\n",
       "    <tr>\n",
       "      <th>864</th>\n",
       "      <td>Daniel J. Edelman Holdings, Inc.</td>\n",
       "      <td>IL</td>\n",
       "      <td>Health Plan</td>\n",
       "      <td>184500</td>\n",
       "      <td>12/22/2021</td>\n",
       "      <td>Hacking/IT Incident</td>\n",
       "      <td>Network Server</td>\n",
       "      <td>Yes</td>\n",
       "      <td>NaN</td>\n",
       "    </tr>\n",
       "    <tr>\n",
       "      <th>865</th>\n",
       "      <td>Rhode Island Public Transit Authority</td>\n",
       "      <td>RI</td>\n",
       "      <td>Health Plan</td>\n",
       "      <td>5015</td>\n",
       "      <td>12/21/2021</td>\n",
       "      <td>Hacking/IT Incident</td>\n",
       "      <td>Network Server</td>\n",
       "      <td>No</td>\n",
       "      <td>NaN</td>\n",
       "    </tr>\n",
       "    <tr>\n",
       "      <th>866</th>\n",
       "      <td>Chaddock</td>\n",
       "      <td>IL</td>\n",
       "      <td>Healthcare Provider</td>\n",
       "      <td>777</td>\n",
       "      <td>12/21/2021</td>\n",
       "      <td>Theft</td>\n",
       "      <td>Paper/Films</td>\n",
       "      <td>No</td>\n",
       "      <td>NaN</td>\n",
       "    </tr>\n",
       "    <tr>\n",
       "      <th>867</th>\n",
       "      <td>Northwest Broward Orthopaedics Associates</td>\n",
       "      <td>FL</td>\n",
       "      <td>Healthcare Provider</td>\n",
       "      <td>500</td>\n",
       "      <td>12/17/2021</td>\n",
       "      <td>Hacking/IT Incident</td>\n",
       "      <td>Desktop Computer, Network Server</td>\n",
       "      <td>No</td>\n",
       "      <td>NaN</td>\n",
       "    </tr>\n",
       "    <tr>\n",
       "      <th>868</th>\n",
       "      <td>Youth Consultation Service</td>\n",
       "      <td>NJ</td>\n",
       "      <td>Healthcare Provider</td>\n",
       "      <td>2756</td>\n",
       "      <td>07/19/2021</td>\n",
       "      <td>Hacking/IT Incident</td>\n",
       "      <td>Network Server</td>\n",
       "      <td>No</td>\n",
       "      <td>NaN</td>\n",
       "    </tr>\n",
       "  </tbody>\n",
       "</table>\n",
       "<p>869 rows × 9 columns</p>\n",
       "</div>"
      ],
      "text/plain": [
       "                                Name of Covered Entity State  \\\n",
       "0                               Wichita Urology Group     KS   \n",
       "1              Pan-American Life Insurance Group, Inc.    LA   \n",
       "2    Leggett & Platt Incorporated Employee Benefit ...    MO   \n",
       "3              Pan-American Life Insurance Group, Inc.    LA   \n",
       "4                  EMS Management and Consultants Inc.    NC   \n",
       "..                                                 ...   ...   \n",
       "864                   Daniel J. Edelman Holdings, Inc.    IL   \n",
       "865              Rhode Island Public Transit Authority    RI   \n",
       "866                                           Chaddock    IL   \n",
       "867          Northwest Broward Orthopaedics Associates    FL   \n",
       "868                         Youth Consultation Service    NJ   \n",
       "\n",
       "     Covered Entity Type  Individuals Affected Breach Submission Date  \\\n",
       "0    Healthcare Provider                  5314             12/07/2023   \n",
       "1     Business Associate                 94807             12/04/2023   \n",
       "2            Health Plan                  1200             12/04/2023   \n",
       "3            Health Plan                105387             12/04/2023   \n",
       "4     Business Associate                  2654             12/01/2023   \n",
       "..                   ...                   ...                    ...   \n",
       "864          Health Plan                184500             12/22/2021   \n",
       "865          Health Plan                  5015             12/21/2021   \n",
       "866  Healthcare Provider                   777             12/21/2021   \n",
       "867  Healthcare Provider                   500             12/17/2021   \n",
       "868  Healthcare Provider                  2756             07/19/2021   \n",
       "\n",
       "                     Type of Breach  Location of Breached Information  \\\n",
       "0               Hacking/IT Incident                    Network Server   \n",
       "1               Hacking/IT Incident                    Network Server   \n",
       "2               Hacking/IT Incident                    Network Server   \n",
       "3               Hacking/IT Incident                    Network Server   \n",
       "4    Unauthorized Access/Disclosure                       Paper/Films   \n",
       "..                              ...                               ...   \n",
       "864             Hacking/IT Incident                    Network Server   \n",
       "865             Hacking/IT Incident                    Network Server   \n",
       "866                           Theft                       Paper/Films   \n",
       "867             Hacking/IT Incident  Desktop Computer, Network Server   \n",
       "868             Hacking/IT Incident                    Network Server   \n",
       "\n",
       "    Business Associate Present  Web Description  \n",
       "0                          Yes              NaN  \n",
       "1                          Yes              NaN  \n",
       "2                          Yes              NaN  \n",
       "3                           No              NaN  \n",
       "4                          Yes              NaN  \n",
       "..                         ...              ...  \n",
       "864                        Yes              NaN  \n",
       "865                         No              NaN  \n",
       "866                         No              NaN  \n",
       "867                         No              NaN  \n",
       "868                         No              NaN  \n",
       "\n",
       "[869 rows x 9 columns]"
      ]
     },
     "execution_count": 2,
     "metadata": {},
     "output_type": "execute_result"
    }
   ],
   "source": [
    "data_breach_df = pd.read_csv(\"/Users/srinivaspallapu/Documents/INFO 5709/Project/breach_report.csv\") \n",
    "data_breach_df"
   ]
  },
  {
   "cell_type": "code",
   "execution_count": 3,
   "metadata": {},
   "outputs": [
    {
     "name": "stdout",
     "output_type": "stream",
     "text": [
      "                              Name of Covered Entity State  \\\n",
      "0                             Wichita Urology Group     KS   \n",
      "1            Pan-American Life Insurance Group, Inc.    LA   \n",
      "2  Leggett & Platt Incorporated Employee Benefit ...    MO   \n",
      "3            Pan-American Life Insurance Group, Inc.    LA   \n",
      "4                EMS Management and Consultants Inc.    NC   \n",
      "\n",
      "   Covered Entity Type  Individuals Affected Breach Submission Date  \\\n",
      "0  Healthcare Provider                  5314             12/07/2023   \n",
      "1   Business Associate                 94807             12/04/2023   \n",
      "2          Health Plan                  1200             12/04/2023   \n",
      "3          Health Plan                105387             12/04/2023   \n",
      "4   Business Associate                  2654             12/01/2023   \n",
      "\n",
      "                   Type of Breach Location of Breached Information  \\\n",
      "0             Hacking/IT Incident                   Network Server   \n",
      "1             Hacking/IT Incident                   Network Server   \n",
      "2             Hacking/IT Incident                   Network Server   \n",
      "3             Hacking/IT Incident                   Network Server   \n",
      "4  Unauthorized Access/Disclosure                      Paper/Films   \n",
      "\n",
      "  Business Associate Present  Web Description  \n",
      "0                        Yes              NaN  \n",
      "1                        Yes              NaN  \n",
      "2                        Yes              NaN  \n",
      "3                         No              NaN  \n",
      "4                        Yes              NaN  \n"
     ]
    }
   ],
   "source": [
    "# Display the first few rows of the DataFrame\n",
    "print(data_breach_df.head(5))"
   ]
  },
  {
   "cell_type": "markdown",
   "metadata": {},
   "source": [
    "### Info about data types and missing values"
   ]
  },
  {
   "cell_type": "code",
   "execution_count": 4,
   "metadata": {},
   "outputs": [
    {
     "name": "stdout",
     "output_type": "stream",
     "text": [
      "\n",
      "Info about data types and missing values:\n",
      "<class 'pandas.core.frame.DataFrame'>\n",
      "RangeIndex: 869 entries, 0 to 868\n",
      "Data columns (total 9 columns):\n",
      " #   Column                            Non-Null Count  Dtype  \n",
      "---  ------                            --------------  -----  \n",
      " 0   Name of Covered Entity            869 non-null    object \n",
      " 1   State                             865 non-null    object \n",
      " 2   Covered Entity Type               868 non-null    object \n",
      " 3   Individuals Affected              869 non-null    int64  \n",
      " 4   Breach Submission Date            869 non-null    object \n",
      " 5   Type of Breach                    869 non-null    object \n",
      " 6   Location of Breached Information  869 non-null    object \n",
      " 7   Business Associate Present        869 non-null    object \n",
      " 8   Web Description                   0 non-null      float64\n",
      "dtypes: float64(1), int64(1), object(7)\n",
      "memory usage: 61.2+ KB\n",
      "None\n"
     ]
    }
   ],
   "source": [
    "print(\"\\nInfo about data types and missing values:\")\n",
    "print(data_breach_df.info())"
   ]
  },
  {
   "cell_type": "markdown",
   "metadata": {},
   "source": [
    "## Data types of the columns"
   ]
  },
  {
   "cell_type": "code",
   "execution_count": 5,
   "metadata": {},
   "outputs": [
    {
     "data": {
      "text/plain": [
       "Name of Covered Entity               object\n",
       "State                                object\n",
       "Covered Entity Type                  object\n",
       "Individuals Affected                  int64\n",
       "Breach Submission Date               object\n",
       "Type of Breach                       object\n",
       "Location of Breached Information     object\n",
       "Business Associate Present           object\n",
       "Web Description                     float64\n",
       "dtype: object"
      ]
     },
     "execution_count": 5,
     "metadata": {},
     "output_type": "execute_result"
    }
   ],
   "source": [
    "data_breach_df.dtypes"
   ]
  },
  {
   "cell_type": "markdown",
   "metadata": {},
   "source": [
    "## Number of missing values"
   ]
  },
  {
   "cell_type": "code",
   "execution_count": 6,
   "metadata": {},
   "outputs": [
    {
     "name": "stdout",
     "output_type": "stream",
     "text": [
      "Name of Covered Entity                0\n",
      "State                                 4\n",
      "Covered Entity Type                   1\n",
      "Individuals Affected                  0\n",
      "Breach Submission Date                0\n",
      "Type of Breach                        0\n",
      "Location of Breached Information      0\n",
      "Business Associate Present            0\n",
      "Web Description                     869\n",
      "dtype: int64\n"
     ]
    }
   ],
   "source": [
    "print(data_breach_df.isnull().sum())"
   ]
  },
  {
   "cell_type": "markdown",
   "metadata": {},
   "source": [
    "### Removing \"Web Description\" since the whole columns is empty"
   ]
  },
  {
   "cell_type": "code",
   "execution_count": 7,
   "metadata": {},
   "outputs": [
    {
     "data": {
      "text/html": [
       "<div>\n",
       "<style scoped>\n",
       "    .dataframe tbody tr th:only-of-type {\n",
       "        vertical-align: middle;\n",
       "    }\n",
       "\n",
       "    .dataframe tbody tr th {\n",
       "        vertical-align: top;\n",
       "    }\n",
       "\n",
       "    .dataframe thead th {\n",
       "        text-align: right;\n",
       "    }\n",
       "</style>\n",
       "<table border=\"1\" class=\"dataframe\">\n",
       "  <thead>\n",
       "    <tr style=\"text-align: right;\">\n",
       "      <th></th>\n",
       "      <th>Name of Covered Entity</th>\n",
       "      <th>State</th>\n",
       "      <th>Covered Entity Type</th>\n",
       "      <th>Individuals Affected</th>\n",
       "      <th>Breach Submission Date</th>\n",
       "      <th>Type of Breach</th>\n",
       "      <th>Location of Breached Information</th>\n",
       "      <th>Business Associate Present</th>\n",
       "    </tr>\n",
       "  </thead>\n",
       "  <tbody>\n",
       "    <tr>\n",
       "      <th>0</th>\n",
       "      <td>Wichita Urology Group</td>\n",
       "      <td>KS</td>\n",
       "      <td>Healthcare Provider</td>\n",
       "      <td>5314</td>\n",
       "      <td>12/07/2023</td>\n",
       "      <td>Hacking/IT Incident</td>\n",
       "      <td>Network Server</td>\n",
       "      <td>Yes</td>\n",
       "    </tr>\n",
       "    <tr>\n",
       "      <th>1</th>\n",
       "      <td>Pan-American Life Insurance Group, Inc.</td>\n",
       "      <td>LA</td>\n",
       "      <td>Business Associate</td>\n",
       "      <td>94807</td>\n",
       "      <td>12/04/2023</td>\n",
       "      <td>Hacking/IT Incident</td>\n",
       "      <td>Network Server</td>\n",
       "      <td>Yes</td>\n",
       "    </tr>\n",
       "    <tr>\n",
       "      <th>2</th>\n",
       "      <td>Leggett &amp; Platt Incorporated Employee Benefit ...</td>\n",
       "      <td>MO</td>\n",
       "      <td>Health Plan</td>\n",
       "      <td>1200</td>\n",
       "      <td>12/04/2023</td>\n",
       "      <td>Hacking/IT Incident</td>\n",
       "      <td>Network Server</td>\n",
       "      <td>Yes</td>\n",
       "    </tr>\n",
       "    <tr>\n",
       "      <th>3</th>\n",
       "      <td>Pan-American Life Insurance Group, Inc.</td>\n",
       "      <td>LA</td>\n",
       "      <td>Health Plan</td>\n",
       "      <td>105387</td>\n",
       "      <td>12/04/2023</td>\n",
       "      <td>Hacking/IT Incident</td>\n",
       "      <td>Network Server</td>\n",
       "      <td>No</td>\n",
       "    </tr>\n",
       "    <tr>\n",
       "      <th>4</th>\n",
       "      <td>EMS Management and Consultants Inc.</td>\n",
       "      <td>NC</td>\n",
       "      <td>Business Associate</td>\n",
       "      <td>2654</td>\n",
       "      <td>12/01/2023</td>\n",
       "      <td>Unauthorized Access/Disclosure</td>\n",
       "      <td>Paper/Films</td>\n",
       "      <td>Yes</td>\n",
       "    </tr>\n",
       "    <tr>\n",
       "      <th>...</th>\n",
       "      <td>...</td>\n",
       "      <td>...</td>\n",
       "      <td>...</td>\n",
       "      <td>...</td>\n",
       "      <td>...</td>\n",
       "      <td>...</td>\n",
       "      <td>...</td>\n",
       "      <td>...</td>\n",
       "    </tr>\n",
       "    <tr>\n",
       "      <th>864</th>\n",
       "      <td>Daniel J. Edelman Holdings, Inc.</td>\n",
       "      <td>IL</td>\n",
       "      <td>Health Plan</td>\n",
       "      <td>184500</td>\n",
       "      <td>12/22/2021</td>\n",
       "      <td>Hacking/IT Incident</td>\n",
       "      <td>Network Server</td>\n",
       "      <td>Yes</td>\n",
       "    </tr>\n",
       "    <tr>\n",
       "      <th>865</th>\n",
       "      <td>Rhode Island Public Transit Authority</td>\n",
       "      <td>RI</td>\n",
       "      <td>Health Plan</td>\n",
       "      <td>5015</td>\n",
       "      <td>12/21/2021</td>\n",
       "      <td>Hacking/IT Incident</td>\n",
       "      <td>Network Server</td>\n",
       "      <td>No</td>\n",
       "    </tr>\n",
       "    <tr>\n",
       "      <th>866</th>\n",
       "      <td>Chaddock</td>\n",
       "      <td>IL</td>\n",
       "      <td>Healthcare Provider</td>\n",
       "      <td>777</td>\n",
       "      <td>12/21/2021</td>\n",
       "      <td>Theft</td>\n",
       "      <td>Paper/Films</td>\n",
       "      <td>No</td>\n",
       "    </tr>\n",
       "    <tr>\n",
       "      <th>867</th>\n",
       "      <td>Northwest Broward Orthopaedics Associates</td>\n",
       "      <td>FL</td>\n",
       "      <td>Healthcare Provider</td>\n",
       "      <td>500</td>\n",
       "      <td>12/17/2021</td>\n",
       "      <td>Hacking/IT Incident</td>\n",
       "      <td>Desktop Computer, Network Server</td>\n",
       "      <td>No</td>\n",
       "    </tr>\n",
       "    <tr>\n",
       "      <th>868</th>\n",
       "      <td>Youth Consultation Service</td>\n",
       "      <td>NJ</td>\n",
       "      <td>Healthcare Provider</td>\n",
       "      <td>2756</td>\n",
       "      <td>07/19/2021</td>\n",
       "      <td>Hacking/IT Incident</td>\n",
       "      <td>Network Server</td>\n",
       "      <td>No</td>\n",
       "    </tr>\n",
       "  </tbody>\n",
       "</table>\n",
       "<p>869 rows × 8 columns</p>\n",
       "</div>"
      ],
      "text/plain": [
       "                                Name of Covered Entity State  \\\n",
       "0                               Wichita Urology Group     KS   \n",
       "1              Pan-American Life Insurance Group, Inc.    LA   \n",
       "2    Leggett & Platt Incorporated Employee Benefit ...    MO   \n",
       "3              Pan-American Life Insurance Group, Inc.    LA   \n",
       "4                  EMS Management and Consultants Inc.    NC   \n",
       "..                                                 ...   ...   \n",
       "864                   Daniel J. Edelman Holdings, Inc.    IL   \n",
       "865              Rhode Island Public Transit Authority    RI   \n",
       "866                                           Chaddock    IL   \n",
       "867          Northwest Broward Orthopaedics Associates    FL   \n",
       "868                         Youth Consultation Service    NJ   \n",
       "\n",
       "     Covered Entity Type  Individuals Affected Breach Submission Date  \\\n",
       "0    Healthcare Provider                  5314             12/07/2023   \n",
       "1     Business Associate                 94807             12/04/2023   \n",
       "2            Health Plan                  1200             12/04/2023   \n",
       "3            Health Plan                105387             12/04/2023   \n",
       "4     Business Associate                  2654             12/01/2023   \n",
       "..                   ...                   ...                    ...   \n",
       "864          Health Plan                184500             12/22/2021   \n",
       "865          Health Plan                  5015             12/21/2021   \n",
       "866  Healthcare Provider                   777             12/21/2021   \n",
       "867  Healthcare Provider                   500             12/17/2021   \n",
       "868  Healthcare Provider                  2756             07/19/2021   \n",
       "\n",
       "                     Type of Breach  Location of Breached Information  \\\n",
       "0               Hacking/IT Incident                    Network Server   \n",
       "1               Hacking/IT Incident                    Network Server   \n",
       "2               Hacking/IT Incident                    Network Server   \n",
       "3               Hacking/IT Incident                    Network Server   \n",
       "4    Unauthorized Access/Disclosure                       Paper/Films   \n",
       "..                              ...                               ...   \n",
       "864             Hacking/IT Incident                    Network Server   \n",
       "865             Hacking/IT Incident                    Network Server   \n",
       "866                           Theft                       Paper/Films   \n",
       "867             Hacking/IT Incident  Desktop Computer, Network Server   \n",
       "868             Hacking/IT Incident                    Network Server   \n",
       "\n",
       "    Business Associate Present  \n",
       "0                          Yes  \n",
       "1                          Yes  \n",
       "2                          Yes  \n",
       "3                           No  \n",
       "4                          Yes  \n",
       "..                         ...  \n",
       "864                        Yes  \n",
       "865                         No  \n",
       "866                         No  \n",
       "867                         No  \n",
       "868                         No  \n",
       "\n",
       "[869 rows x 8 columns]"
      ]
     },
     "execution_count": 7,
     "metadata": {},
     "output_type": "execute_result"
    }
   ],
   "source": [
    "data_breach_df = data_breach_df.drop(columns=['Web Description'])\n",
    "data_breach_df"
   ]
  },
  {
   "cell_type": "code",
   "execution_count": 8,
   "metadata": {},
   "outputs": [],
   "source": [
    "data_breach_df['State'].fillna('Unknown', inplace=True)\n",
    "data_breach_df['Covered Entity Type'].fillna('Unknown', inplace=True)\n"
   ]
  },
  {
   "cell_type": "code",
   "execution_count": 9,
   "metadata": {},
   "outputs": [
    {
     "name": "stdout",
     "output_type": "stream",
     "text": [
      "Name of Covered Entity              0\n",
      "State                               0\n",
      "Covered Entity Type                 0\n",
      "Individuals Affected                0\n",
      "Breach Submission Date              0\n",
      "Type of Breach                      0\n",
      "Location of Breached Information    0\n",
      "Business Associate Present          0\n",
      "dtype: int64\n"
     ]
    }
   ],
   "source": [
    "print(data_breach_df.isnull().sum())"
   ]
  },
  {
   "cell_type": "code",
   "execution_count": 10,
   "metadata": {},
   "outputs": [
    {
     "data": {
      "text/html": [
       "<div>\n",
       "<style scoped>\n",
       "    .dataframe tbody tr th:only-of-type {\n",
       "        vertical-align: middle;\n",
       "    }\n",
       "\n",
       "    .dataframe tbody tr th {\n",
       "        vertical-align: top;\n",
       "    }\n",
       "\n",
       "    .dataframe thead th {\n",
       "        text-align: right;\n",
       "    }\n",
       "</style>\n",
       "<table border=\"1\" class=\"dataframe\">\n",
       "  <thead>\n",
       "    <tr style=\"text-align: right;\">\n",
       "      <th></th>\n",
       "      <th>Individuals Affected</th>\n",
       "    </tr>\n",
       "  </thead>\n",
       "  <tbody>\n",
       "    <tr>\n",
       "      <th>count</th>\n",
       "      <td>8.690000e+02</td>\n",
       "    </tr>\n",
       "    <tr>\n",
       "      <th>mean</th>\n",
       "      <td>1.697074e+05</td>\n",
       "    </tr>\n",
       "    <tr>\n",
       "      <th>std</th>\n",
       "      <td>7.851357e+05</td>\n",
       "    </tr>\n",
       "    <tr>\n",
       "      <th>min</th>\n",
       "      <td>5.000000e+02</td>\n",
       "    </tr>\n",
       "    <tr>\n",
       "      <th>25%</th>\n",
       "      <td>1.352000e+03</td>\n",
       "    </tr>\n",
       "    <tr>\n",
       "      <th>50%</th>\n",
       "      <td>5.973000e+03</td>\n",
       "    </tr>\n",
       "    <tr>\n",
       "      <th>75%</th>\n",
       "      <td>4.307100e+04</td>\n",
       "    </tr>\n",
       "    <tr>\n",
       "      <th>max</th>\n",
       "      <td>1.127000e+07</td>\n",
       "    </tr>\n",
       "  </tbody>\n",
       "</table>\n",
       "</div>"
      ],
      "text/plain": [
       "       Individuals Affected\n",
       "count          8.690000e+02\n",
       "mean           1.697074e+05\n",
       "std            7.851357e+05\n",
       "min            5.000000e+02\n",
       "25%            1.352000e+03\n",
       "50%            5.973000e+03\n",
       "75%            4.307100e+04\n",
       "max            1.127000e+07"
      ]
     },
     "execution_count": 10,
     "metadata": {},
     "output_type": "execute_result"
    }
   ],
   "source": [
    "data_breach_df.describe()"
   ]
  },
  {
   "cell_type": "code",
   "execution_count": 11,
   "metadata": {},
   "outputs": [
    {
     "data": {
      "text/plain": [
       "TX         74\n",
       "NY         58\n",
       "CA         53\n",
       "IL         53\n",
       "PA         46\n",
       "MA         43\n",
       "FL         40\n",
       "OH         33\n",
       "MI         30\n",
       "IN         30\n",
       "GA         30\n",
       "NJ         28\n",
       "NC         25\n",
       "VA         22\n",
       "KS         18\n",
       "AZ         18\n",
       "TN         17\n",
       "CT         17\n",
       "MO         17\n",
       "WA         16\n",
       "MN         16\n",
       "WI         15\n",
       "MD         15\n",
       "IA         11\n",
       "KY         10\n",
       "NH         10\n",
       "MS         10\n",
       "CO         10\n",
       "OK          9\n",
       "OR          8\n",
       "NE          7\n",
       "UT          7\n",
       "LA          7\n",
       "AL          7\n",
       "AR          6\n",
       "RI          6\n",
       "DE          5\n",
       "ME          5\n",
       "SC          4\n",
       "ND          4\n",
       "ID          4\n",
       "Unknown     4\n",
       "MT          3\n",
       "WV          3\n",
       "NV          3\n",
       "SD          3\n",
       "AK          3\n",
       "NM          2\n",
       "HI          2\n",
       "WY          2\n",
       "Name: State, dtype: int64"
      ]
     },
     "execution_count": 11,
     "metadata": {},
     "output_type": "execute_result"
    }
   ],
   "source": [
    "data_breach_df['State'].value_counts()"
   ]
  },
  {
   "cell_type": "code",
   "execution_count": 12,
   "metadata": {},
   "outputs": [
    {
     "data": {
      "image/png": "[encoded data removed]",
      "text/plain": [
       "<Figure size 1440x1080 with 1 Axes>"
      ]
     },
     "metadata": {
      "needs_background": "light"
     },
     "output_type": "display_data"
    }
   ],
   "source": [
    "plt.figure(figsize=(20, 15))\n",
    "plot = sns.countplot(x='State', data=data_breach_df, palette='deep')\n",
    "\n",
    "for p in plot.patches:\n",
    "    plot.annotate(f'{p.get_height()}', (p.get_x() + p.get_width() / 2., p.get_height()),\n",
    "                  ha='center', va='center', xytext=(0, 10), textcoords='offset points', fontsize=12, color='black')\n",
    "\n",
    "plt.title('States')\n",
    "plt.ylabel('Count')\n",
    "plt.show()"
   ]
  },
  {
   "cell_type": "code",
   "execution_count": 13,
   "metadata": {},
   "outputs": [
    {
     "data": {
      "text/plain": [
       "Healthcare Provider          565\n",
       "Business Associate           179\n",
       "Health Plan                  123\n",
       "Healthcare Clearing House      1\n",
       "Unknown                        1\n",
       "Name: Covered Entity Type, dtype: int64"
      ]
     },
     "execution_count": 13,
     "metadata": {},
     "output_type": "execute_result"
    }
   ],
   "source": [
    "count_CoveredEntityType=data_breach_df['Covered Entity Type'].value_counts()\n",
    "count_CoveredEntityType"
   ]
  },
  {
   "cell_type": "code",
   "execution_count": 14,
   "metadata": {},
   "outputs": [
    {
     "data": {
      "image/png": "[encoded data removed]",
      "text/plain": [
       "<Figure size 720x432 with 1 Axes>"
      ]
     },
     "metadata": {
      "needs_background": "light"
     },
     "output_type": "display_data"
    }
   ],
   "source": [
    "plt.figure(figsize=(10, 6))\n",
    "plot = sns.countplot(x='Covered Entity Type', data=data_breach_df, palette='viridis')\n",
    "\n",
    "for p in plot.patches:\n",
    "    plot.annotate(f'{p.get_height()}', (p.get_x() + p.get_width() / 2., p.get_height()),\n",
    "                  ha='center', va='center', xytext=(0, 10), textcoords='offset points', fontsize=12, color='black')\n",
    "\n",
    "plt.title('Covered Entity Types')\n",
    "plt.xlabel('Covered Entity Type')\n",
    "plt.ylabel('Count')\n",
    "plt.show()"
   ]
  },
  {
   "cell_type": "code",
   "execution_count": 15,
   "metadata": {},
   "outputs": [
    {
     "data": {
      "text/plain": [
       "No     590\n",
       "Yes    279\n",
       "Name: Business Associate Present, dtype: int64"
      ]
     },
     "execution_count": 15,
     "metadata": {},
     "output_type": "execute_result"
    }
   ],
   "source": [
    "data_breach_df['Business Associate Present'].value_counts()"
   ]
  },
  {
   "cell_type": "code",
   "execution_count": 16,
   "metadata": {},
   "outputs": [
    {
     "data": {
      "image/png": "[encoded data removed]",
      "text/plain": [
       "<Figure size 720x432 with 1 Axes>"
      ]
     },
     "metadata": {
      "needs_background": "light"
     },
     "output_type": "display_data"
    }
   ],
   "source": [
    "plt.figure(figsize=(10, 6))\n",
    "plot = sns.countplot(x='Business Associate Present', data=data_breach_df, palette='Set2')\n",
    "\n",
    "for p in plot.patches:\n",
    "    plot.annotate(f'{p.get_height()}', (p.get_x() + p.get_width() / 2., p.get_height()),\n",
    "                  ha='center', va='center', xytext=(0, 10), textcoords='offset points', fontsize=12, color='black')\n",
    "\n",
    "plt.title('Business Associate Present')\n",
    "plt.xlabel('Business Associate Present')\n",
    "plt.ylabel('Count')\n",
    "plt.show()"
   ]
  },
  {
   "cell_type": "code",
   "execution_count": 17,
   "metadata": {},
   "outputs": [
    {
     "data": {
      "text/plain": [
       "Hacking/IT Incident               721\n",
       "Unauthorized Access/Disclosure    121\n",
       "Theft                              17\n",
       "Loss                                6\n",
       "Improper Disposal                   4\n",
       "Name: Type of Breach, dtype: int64"
      ]
     },
     "execution_count": 17,
     "metadata": {},
     "output_type": "execute_result"
    }
   ],
   "source": [
    "data_breach_df['Type of Breach'].value_counts()"
   ]
  },
  {
   "cell_type": "code",
   "execution_count": 20,
   "metadata": {},
   "outputs": [
    {
     "data": {
      "image/png": "[encoded data removed]",
      "text/plain": [
       "<Figure size 1080x720 with 1 Axes>"
      ]
     },
     "metadata": {
      "needs_background": "light"
     },
     "output_type": "display_data"
    }
   ],
   "source": [
    "plt.figure(figsize=(15, 10))\n",
    "plot = sns.countplot(x='Type of Breach', data=data_breach_df, palette='muted')\n",
    "\n",
    "for p in plot.patches:\n",
    "    plot.annotate(f'{p.get_height()}', (p.get_x() + p.get_width() / 2., p.get_height()),\n",
    "                  ha='center', va='center', xytext=(0, 10), textcoords='offset points', fontsize=12, color='black')\n",
    "\n",
    "plt.title('Type of Breachs')\n",
    "plt.xlabel('Type of Breachs')\n",
    "plt.ylabel('Count')\n",
    "plt.show()"
   ]
  },
  {
   "cell_type": "code",
   "execution_count": 19,
   "metadata": {},
   "outputs": [
    {
     "data": {
      "text/plain": [
       "Network Server                                                580\n",
       "Email                                                         169\n",
       "Paper/Films                                                    35\n",
       "Electronic Medical Record                                      21\n",
       "Other                                                          13\n",
       "Other Portable Electronic Device                                9\n",
       "Network Server, Other                                           8\n",
       "Laptop                                                          8\n",
       "Electronic Medical Record, Network Server                       6\n",
       "Desktop Computer, Network Server                                5\n",
       "Desktop Computer                                                4\n",
       "Desktop Computer, Email                                         1\n",
       "Email, Other                                                    1\n",
       "Desktop Computer, Electronic Medical Record, Email, Laptop      1\n",
       "Other, Paper/Films                                              1\n",
       "Electronic Medical Record, Other                                1\n",
       "Desktop Computer, Laptop, Network Server                        1\n",
       "Electronic Medical Record, Paper/Films                          1\n",
       "Electronic Medical Record, Laptop                               1\n",
       "Desktop Computer, Electronic Medical Record                     1\n",
       "Email, Network Server                                           1\n",
       "Electronic Medical Record, Email, Paper/Films                   1\n",
       "Name: Location of Breached Information, dtype: int64"
      ]
     },
     "execution_count": 19,
     "metadata": {},
     "output_type": "execute_result"
    }
   ],
   "source": [
    "data_breach_df['Location of Breached Information'].value_counts()"
   ]
  },
  {
   "cell_type": "code",
   "execution_count": null,
   "metadata": {},
   "outputs": [],
   "source": []
  }
 ],
 "metadata": {
  "kernelspec": {
   "display_name": "Python 3 (ipykernel)",
   "language": "python",
   "name": "python3"
  },
  "language_info": {
   "codemirror_mode": {
    "name": "ipython",
    "version": 3
   },
   "file_extension": ".py",
   "mimetype": "text/x-python",
   "name": "python",
   "nbconvert_exporter": "python",
   "pygments_lexer": "ipython3",
   "version": "3.9.12"
  }
 },
 "nbformat": 4,
 "nbformat_minor": 2
}
